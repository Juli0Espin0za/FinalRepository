{
 "cells": [
  {
   "cell_type": "markdown",
   "metadata": {},
   "source": [
    "<img src=\"http://imgur.com/1ZcRyrc.png\" style=\"float: left; margin: 20px; height: 55px\">\n",
    "\n",
    "# Practice Using APIs\n",
    "\n",
    "_Authors: Dave Yerrington (SF), Sam Stack(DC)_\n",
    "\n",
    "---\n",
    "\n",
    "In this lab we will practice using some popular APIs to retrieve and store data."
   ]
  },
  {
   "cell_type": "code",
   "execution_count": 11,
   "metadata": {},
   "outputs": [],
   "source": [
    "# Imports at the top\n",
    "import json\n",
    "import urllib\n",
    "import pandas as pd\n",
    "import numpy as np\n",
    "import requests\n",
    "import json\n",
    "import re\n",
    "import matplotlib.pyplot as plt\n",
    "\n",
    "%matplotlib inline"
   ]
  },
  {
   "cell_type": "markdown",
   "metadata": {},
   "source": [
    "## Exercise 1: get data from Sheetsu\n",
    "\n",
    "---\n",
    "\n",
    "[Sheetsu](https://sheetsu.com/) is an online service that allows you to access any Google spreadsheet from an API. This can be a very powerful way to share a dataset with colleagues as well as to create a mini centralized data storage that is simpler to edit than a database.\n",
    "\n",
    "A Google Spreadsheet with Wine data can be found [here](https://docs.google.com/spreadsheets/d/1mZ3Otr5AV4v8WwvLOAvWf3VLxDa-IeJ1AVTEuavJqeo/).\n",
    "\n",
    "It can be accessed through sheetsu API at this endpoint: https://sheetsu.com/apis/v1.0/dab55afd\n",
    "\n",
    "**Questions:**\n",
    "\n",
    "1. Use the requests library to access the document. Inspect the response text. What kind of data is it?\n",
    "- Check the status code of the response object. What code is it?\n",
    "- Use the appropriate libraries and read functions to read the response into a Pandas Dataframe.\n",
    "- Once you've imported the data into a dataframe, check the value of the 5th line: what's the price?"
   ]
  },
  {
   "cell_type": "code",
   "execution_count": 12,
   "metadata": {},
   "outputs": [],
   "source": [
    "# You can either post or get info from this API\n",
    "api_base_url = 'https://sheetsu.com/apis/v1.0su/64b901019e7d'"
   ]
  },
  {
   "cell_type": "code",
   "execution_count": 13,
   "metadata": {
    "scrolled": true
   },
   "outputs": [
    {
     "data": {
      "text/plain": [
       "'[{\"Color\":\"W\",\"Region\":\"Portugal\",\"Country\":\"Portugal\",\"Vintage\":\"2013\",\"Vinyard\":\"Vinho Verde\",\"Nam'"
      ]
     },
     "execution_count": 13,
     "metadata": {},
     "output_type": "execute_result"
    }
   ],
   "source": [
    "# What kind of data is this returning?\n",
    "api_response = requests.get(api_base_url)\n",
    "api_response.text[:100]"
   ]
  },
  {
   "cell_type": "code",
   "execution_count": 14,
   "metadata": {},
   "outputs": [],
   "source": [
    "# 1. It is a json string"
   ]
  },
  {
   "cell_type": "code",
   "execution_count": 15,
   "metadata": {},
   "outputs": [],
   "source": [
    "reponse = json.loads(api_response.text)"
   ]
  },
  {
   "cell_type": "code",
   "execution_count": 16,
   "metadata": {},
   "outputs": [
    {
     "data": {
      "text/plain": [
       "list"
      ]
     },
     "execution_count": 16,
     "metadata": {},
     "output_type": "execute_result"
    }
   ],
   "source": [
    "type(reponse)"
   ]
  },
  {
   "cell_type": "code",
   "execution_count": 17,
   "metadata": {},
   "outputs": [
    {
     "data": {
      "text/plain": [
       "[{'Color': 'W',\n",
       "  'Consumed In': '2015',\n",
       "  'Country': 'Portugal',\n",
       "  'Grape': '',\n",
       "  'Name': '',\n",
       "  'Price': '',\n",
       "  'Region': 'Portugal',\n",
       "  'Score': '4',\n",
       "  'Vintage': '2013',\n",
       "  'Vinyard': 'Vinho Verde'},\n",
       " {'Color': 'W',\n",
       "  'Consumed In': '2015',\n",
       "  'Country': 'France',\n",
       "  'Grape': '',\n",
       "  'Name': '',\n",
       "  'Price': '17.8',\n",
       "  'Region': 'France',\n",
       "  'Score': '3',\n",
       "  'Vintage': '2013',\n",
       "  'Vinyard': 'Peyruchet'},\n",
       " {'Color': 'W',\n",
       "  'Consumed In': '2015',\n",
       "  'Country': 'Oregon',\n",
       "  'Grape': '',\n",
       "  'Name': '',\n",
       "  'Price': '20',\n",
       "  'Region': 'Oregon',\n",
       "  'Score': '3',\n",
       "  'Vintage': '2013',\n",
       "  'Vinyard': 'Abacela'},\n",
       " {'Color': 'W',\n",
       "  'Consumed In': '2015',\n",
       "  'Country': 'Spain',\n",
       "  'Grape': 'chardonay',\n",
       "  'Name': '',\n",
       "  'Price': '7',\n",
       "  'Region': 'Spain',\n",
       "  'Score': '2.5',\n",
       "  'Vintage': '2012',\n",
       "  'Vinyard': 'Ochoa'},\n",
       " {'Color': 'R',\n",
       "  'Consumed In': '2015',\n",
       "  'Country': 'US',\n",
       "  'Grape': 'chiraz, cab',\n",
       "  'Name': 'Spice Trader',\n",
       "  'Price': '6',\n",
       "  'Region': '',\n",
       "  'Score': '3',\n",
       "  'Vintage': '2012',\n",
       "  'Vinyard': 'Heartland'},\n",
       " {'Color': 'R',\n",
       "  'Consumed In': '2015',\n",
       "  'Country': 'US',\n",
       "  'Grape': 'cab',\n",
       "  'Name': '',\n",
       "  'Price': '13',\n",
       "  'Region': 'California',\n",
       "  'Score': '3.5',\n",
       "  'Vintage': '2012',\n",
       "  'Vinyard': 'Crow Canyon'},\n",
       " {'Color': 'R',\n",
       "  'Consumed In': '2015',\n",
       "  'Country': 'US',\n",
       "  'Grape': '',\n",
       "  'Name': '#14',\n",
       "  'Price': '21',\n",
       "  'Region': 'Oregon',\n",
       "  'Score': '2.5',\n",
       "  'Vintage': '2013',\n",
       "  'Vinyard': 'Abacela'},\n",
       " {'Color': 'R',\n",
       "  'Consumed In': '2015',\n",
       "  'Country': 'France',\n",
       "  'Grape': 'merlot, cab',\n",
       "  'Name': '',\n",
       "  'Price': '12',\n",
       "  'Region': 'Bordeaux',\n",
       "  'Score': '3.5',\n",
       "  'Vintage': '2012',\n",
       "  'Vinyard': 'David Beaulieu'},\n",
       " {'Color': 'R',\n",
       "  'Consumed In': '2015',\n",
       "  'Country': 'France',\n",
       "  'Grape': 'merlot, cab',\n",
       "  'Name': '',\n",
       "  'Price': '11.99',\n",
       "  'Region': 'Medoc',\n",
       "  'Score': '3.5',\n",
       "  'Vintage': '2011',\n",
       "  'Vinyard': 'Chantemerle'},\n",
       " {'Color': 'R',\n",
       "  'Consumed In': '2015',\n",
       "  'Country': 'US',\n",
       "  'Grape': 'merlot',\n",
       "  'Name': '',\n",
       "  'Price': '13',\n",
       "  'Region': 'Washington',\n",
       "  'Score': '4',\n",
       "  'Vintage': '2011',\n",
       "  'Vinyard': 'Hyatt'},\n",
       " {'Color': 'R',\n",
       "  'Consumed In': '2015',\n",
       "  'Country': 'Italy',\n",
       "  'Grape': 'sangiovese',\n",
       "  'Name': 'Rosso Dei Poggi',\n",
       "  'Price': '12',\n",
       "  'Region': 'Tuscany',\n",
       "  'Score': '3',\n",
       "  'Vintage': '2012',\n",
       "  'Vinyard': 'Rosso Dei Poggi'},\n",
       " {'Color': 'R',\n",
       "  'Consumed In': '2015',\n",
       "  'Country': '',\n",
       "  'Grape': '',\n",
       "  'Name': \"Montepulciano D'Abruzzo\",\n",
       "  'Price': '22',\n",
       "  'Region': 'Tuscany',\n",
       "  'Score': '4.5',\n",
       "  'Vintage': '2013',\n",
       "  'Vinyard': 'Orizzonti'},\n",
       " {'Color': 'R',\n",
       "  'Consumed In': '2015',\n",
       "  'Country': 'US',\n",
       "  'Grape': 'chiraz',\n",
       "  'Name': '',\n",
       "  'Price': '7',\n",
       "  'Region': 'Oregon',\n",
       "  'Score': '3.5',\n",
       "  'Vintage': '2010',\n",
       "  'Vinyard': 'Abacelo'},\n",
       " {'Color': 'R',\n",
       "  'Consumed In': '2015',\n",
       "  'Country': 'Italy',\n",
       "  'Grape': 'sangiovese',\n",
       "  'Name': 'Rosso Di Montalcino',\n",
       "  'Price': '15',\n",
       "  'Region': 'Tuscany',\n",
       "  'Score': '3.5',\n",
       "  'Vintage': '2012',\n",
       "  'Vinyard': 'Ridolfi'},\n",
       " {'Color': 'W',\n",
       "  'Consumed In': '2013',\n",
       "  'Country': 'France',\n",
       "  'Grape': 'sauvignon blanc',\n",
       "  'Name': 'Sancerre Cuvee Des Moulins Bales',\n",
       "  'Price': '12',\n",
       "  'Region': 'Loire',\n",
       "  'Score': '3',\n",
       "  'Vintage': '2012',\n",
       "  'Vinyard': 'Celestin Blobdeau'},\n",
       " {'Color': 'R',\n",
       "  'Consumed In': '2013',\n",
       "  'Country': 'US',\n",
       "  'Grape': 'pinot noir',\n",
       "  'Name': 'Meiomi',\n",
       "  'Price': '13',\n",
       "  'Region': 'Napa',\n",
       "  'Score': '3',\n",
       "  'Vintage': '2012',\n",
       "  'Vinyard': 'Belle Glos'},\n",
       " {'Color': 'R',\n",
       "  'Consumed In': '2013',\n",
       "  'Country': 'France',\n",
       "  'Grape': '',\n",
       "  'Name': 'Saint Drezery Prestige',\n",
       "  'Price': '13',\n",
       "  'Region': 'France',\n",
       "  'Score': '3',\n",
       "  'Vintage': '2012',\n",
       "  'Vinyard': 'Puech-Haut'},\n",
       " {'Color': 'R',\n",
       "  'Consumed In': '2013',\n",
       "  'Country': 'France',\n",
       "  'Grape': '',\n",
       "  'Name': 'Saint Drezery Prestige',\n",
       "  'Price': '14',\n",
       "  'Region': 'France',\n",
       "  'Score': '2',\n",
       "  'Vintage': '2011',\n",
       "  'Vinyard': 'Puech-Haut'},\n",
       " {'Color': 'W',\n",
       "  'Consumed In': '2014',\n",
       "  'Country': 'US',\n",
       "  'Grape': 'sauvignon blanc',\n",
       "  'Name': 'Sauvignon Blanc',\n",
       "  'Price': '14.5',\n",
       "  'Region': 'Nappa',\n",
       "  'Score': '4',\n",
       "  'Vintage': '2012',\n",
       "  'Vinyard': 'Honig'}]"
      ]
     },
     "execution_count": 17,
     "metadata": {},
     "output_type": "execute_result"
    }
   ],
   "source": [
    "reponse"
   ]
  },
  {
   "cell_type": "code",
   "execution_count": 18,
   "metadata": {},
   "outputs": [
    {
     "data": {
      "text/plain": [
       "200"
      ]
     },
     "execution_count": 18,
     "metadata": {},
     "output_type": "execute_result"
    }
   ],
   "source": [
    "api_response.status_code"
   ]
  },
  {
   "cell_type": "code",
   "execution_count": 19,
   "metadata": {},
   "outputs": [],
   "source": [
    "# 2. response code is 200"
   ]
  },
  {
   "cell_type": "code",
   "execution_count": 20,
   "metadata": {},
   "outputs": [
    {
     "data": {
      "text/html": [
       "<div>\n",
       "<style scoped>\n",
       "    .dataframe tbody tr th:only-of-type {\n",
       "        vertical-align: middle;\n",
       "    }\n",
       "\n",
       "    .dataframe tbody tr th {\n",
       "        vertical-align: top;\n",
       "    }\n",
       "\n",
       "    .dataframe thead th {\n",
       "        text-align: right;\n",
       "    }\n",
       "</style>\n",
       "<table border=\"1\" class=\"dataframe\">\n",
       "  <thead>\n",
       "    <tr style=\"text-align: right;\">\n",
       "      <th></th>\n",
       "      <th>Color</th>\n",
       "      <th>Consumed In</th>\n",
       "      <th>Country</th>\n",
       "      <th>Grape</th>\n",
       "      <th>Name</th>\n",
       "      <th>Price</th>\n",
       "      <th>Region</th>\n",
       "      <th>Score</th>\n",
       "      <th>Vintage</th>\n",
       "      <th>Vinyard</th>\n",
       "    </tr>\n",
       "  </thead>\n",
       "  <tbody>\n",
       "    <tr>\n",
       "      <th>0</th>\n",
       "      <td>W</td>\n",
       "      <td>2015</td>\n",
       "      <td>Portugal</td>\n",
       "      <td></td>\n",
       "      <td></td>\n",
       "      <td></td>\n",
       "      <td>Portugal</td>\n",
       "      <td>4</td>\n",
       "      <td>2013</td>\n",
       "      <td>Vinho Verde</td>\n",
       "    </tr>\n",
       "    <tr>\n",
       "      <th>1</th>\n",
       "      <td>W</td>\n",
       "      <td>2015</td>\n",
       "      <td>France</td>\n",
       "      <td></td>\n",
       "      <td></td>\n",
       "      <td>17.8</td>\n",
       "      <td>France</td>\n",
       "      <td>3</td>\n",
       "      <td>2013</td>\n",
       "      <td>Peyruchet</td>\n",
       "    </tr>\n",
       "    <tr>\n",
       "      <th>2</th>\n",
       "      <td>W</td>\n",
       "      <td>2015</td>\n",
       "      <td>Oregon</td>\n",
       "      <td></td>\n",
       "      <td></td>\n",
       "      <td>20</td>\n",
       "      <td>Oregon</td>\n",
       "      <td>3</td>\n",
       "      <td>2013</td>\n",
       "      <td>Abacela</td>\n",
       "    </tr>\n",
       "    <tr>\n",
       "      <th>3</th>\n",
       "      <td>W</td>\n",
       "      <td>2015</td>\n",
       "      <td>Spain</td>\n",
       "      <td>chardonay</td>\n",
       "      <td></td>\n",
       "      <td>7</td>\n",
       "      <td>Spain</td>\n",
       "      <td>2.5</td>\n",
       "      <td>2012</td>\n",
       "      <td>Ochoa</td>\n",
       "    </tr>\n",
       "    <tr>\n",
       "      <th>4</th>\n",
       "      <td>R</td>\n",
       "      <td>2015</td>\n",
       "      <td>US</td>\n",
       "      <td>chiraz, cab</td>\n",
       "      <td>Spice Trader</td>\n",
       "      <td>6</td>\n",
       "      <td></td>\n",
       "      <td>3</td>\n",
       "      <td>2012</td>\n",
       "      <td>Heartland</td>\n",
       "    </tr>\n",
       "  </tbody>\n",
       "</table>\n",
       "</div>"
      ],
      "text/plain": [
       "  Color Consumed In   Country        Grape          Name Price    Region  \\\n",
       "0     W        2015  Portugal                                   Portugal   \n",
       "1     W        2015    France                             17.8    France   \n",
       "2     W        2015    Oregon                               20    Oregon   \n",
       "3     W        2015     Spain    chardonay                   7     Spain   \n",
       "4     R        2015        US  chiraz, cab  Spice Trader     6             \n",
       "\n",
       "  Score Vintage      Vinyard  \n",
       "0     4    2013  Vinho Verde  \n",
       "1     3    2013    Peyruchet  \n",
       "2     3    2013      Abacela  \n",
       "3   2.5    2012        Ochoa  \n",
       "4     3    2012    Heartland  "
      ]
     },
     "execution_count": 20,
     "metadata": {},
     "output_type": "execute_result"
    }
   ],
   "source": [
    "wine_df = pd.DataFrame(reponse)\n",
    "wine_df.head()"
   ]
  },
  {
   "cell_type": "code",
   "execution_count": 21,
   "metadata": {},
   "outputs": [
    {
     "data": {
      "text/html": [
       "<div>\n",
       "<style scoped>\n",
       "    .dataframe tbody tr th:only-of-type {\n",
       "        vertical-align: middle;\n",
       "    }\n",
       "\n",
       "    .dataframe tbody tr th {\n",
       "        vertical-align: top;\n",
       "    }\n",
       "\n",
       "    .dataframe thead th {\n",
       "        text-align: right;\n",
       "    }\n",
       "</style>\n",
       "<table border=\"1\" class=\"dataframe\">\n",
       "  <thead>\n",
       "    <tr style=\"text-align: right;\">\n",
       "      <th></th>\n",
       "      <th>Color</th>\n",
       "      <th>Consumed In</th>\n",
       "      <th>Country</th>\n",
       "      <th>Grape</th>\n",
       "      <th>Name</th>\n",
       "      <th>Price</th>\n",
       "      <th>Region</th>\n",
       "      <th>Score</th>\n",
       "      <th>Vintage</th>\n",
       "      <th>Vinyard</th>\n",
       "    </tr>\n",
       "  </thead>\n",
       "  <tbody>\n",
       "    <tr>\n",
       "      <th>0</th>\n",
       "      <td>W</td>\n",
       "      <td>2015</td>\n",
       "      <td>Portugal</td>\n",
       "      <td></td>\n",
       "      <td></td>\n",
       "      <td></td>\n",
       "      <td>Portugal</td>\n",
       "      <td>4.0</td>\n",
       "      <td>2013</td>\n",
       "      <td>Vinho Verde</td>\n",
       "    </tr>\n",
       "    <tr>\n",
       "      <th>1</th>\n",
       "      <td>W</td>\n",
       "      <td>2015</td>\n",
       "      <td>France</td>\n",
       "      <td></td>\n",
       "      <td></td>\n",
       "      <td>17.8</td>\n",
       "      <td>France</td>\n",
       "      <td>3.0</td>\n",
       "      <td>2013</td>\n",
       "      <td>Peyruchet</td>\n",
       "    </tr>\n",
       "  </tbody>\n",
       "</table>\n",
       "</div>"
      ],
      "text/plain": [
       "  Color  Consumed In   Country Grape Name Price    Region  Score  Vintage  \\\n",
       "0     W         2015  Portugal                   Portugal    4.0     2013   \n",
       "1     W         2015    France             17.8    France    3.0     2013   \n",
       "\n",
       "       Vinyard  \n",
       "0  Vinho Verde  \n",
       "1    Peyruchet  "
      ]
     },
     "execution_count": 21,
     "metadata": {},
     "output_type": "execute_result"
    }
   ],
   "source": [
    "# alternatively:\n",
    "wine_df = pd.read_json(api_response.text)\n",
    "wine_df.head(2)"
   ]
  },
  {
   "cell_type": "code",
   "execution_count": 22,
   "metadata": {},
   "outputs": [
    {
     "data": {
      "text/plain": [
       "Color                     R\n",
       "Consumed In            2015\n",
       "Country                  US\n",
       "Grape           chiraz, cab\n",
       "Name           Spice Trader\n",
       "Price                     6\n",
       "Region                     \n",
       "Score                     3\n",
       "Vintage                2012\n",
       "Vinyard           Heartland\n",
       "Name: 4, dtype: object"
      ]
     },
     "execution_count": 22,
     "metadata": {},
     "output_type": "execute_result"
    }
   ],
   "source": [
    "wine_df.iloc[4, :]\n",
    "# the price is 6 for the 5th row."
   ]
  },
  {
   "cell_type": "markdown",
   "metadata": {},
   "source": [
    "## Exercise 2: post data to Sheetsu\n",
    "\n",
    "---\n",
    "\n",
    "We've learned how to read data, but it'd be great if we could also write data. For this we will need to use a _POST_ request.\n",
    "\n",
    "1. Use the post command to add the `post_data` to the spreadsheet.\n",
    "- What status did you get? How can you check that you actually added the data correctly?\n",
    "- In this exercise, your classmates are adding data to the same spreadsheet. What happens because of this? Is it a problem? How could you mitigate it?"
   ]
  },
  {
   "cell_type": "code",
   "execution_count": 23,
   "metadata": {},
   "outputs": [],
   "source": [
    "post_data = {\n",
    "    'Grape': '',\n",
    "    'Name': 'My wonderful wine',\n",
    "    'Color': 'R',\n",
    "    'Country': 'US',\n",
    "    'Region': 'Sonoma',\n",
    "    'Vinyard': '',\n",
    "    'Score': '10',\n",
    "    'Consumed In': '2015',\n",
    "    'Vintage': '1973',\n",
    "    'Price': '200'\n",
    "}"
   ]
  },
  {
   "cell_type": "code",
   "execution_count": 24,
   "metadata": {},
   "outputs": [
    {
     "data": {
      "text/plain": [
       "<Response [402]>"
      ]
     },
     "execution_count": 24,
     "metadata": {},
     "output_type": "execute_result"
    }
   ],
   "source": [
    "requests.post(api_base_url, data=post_data)"
   ]
  },
  {
   "cell_type": "code",
   "execution_count": 25,
   "metadata": {},
   "outputs": [],
   "source": [
    "# 2. To check we could send a get request and check the last line."
   ]
  },
  {
   "cell_type": "code",
   "execution_count": 26,
   "metadata": {},
   "outputs": [],
   "source": [
    "# 3. There will be many duplicate lines on the spreadsheet. One way to mitigate \n",
    "# this would be through permission, another would be to insert at a \n",
    "# specific position, so that the line is overwritten at each time."
   ]
  },
  {
   "cell_type": "markdown",
   "metadata": {},
   "source": [
    "## Exercise 3: IMDB TV Shows\n",
    "\n",
    "---\n",
    "\n",
    "Sometimes an API doesn't provide all the information we would like to get and we need to be creative.\n",
    "\n",
    "Here we will use a combination of scraping and API calls to find the ratings and networks of famous television shows."
   ]
  },
  {
   "cell_type": "markdown",
   "metadata": {
    "collapsed": true
   },
   "source": [
    "### 3.A Get the top TV Shows\n",
    "\n",
    "The Internet Movie Database contains data about movies and TV shows. Unfortunately it does not have a public API.\n",
    "\n",
    "The page http://www.imdb.com/chart/toptv/?ref_=nv_tp_tv250_2 contains the list of the top 250 tv shows of all time. Retrieve the page using the requests library and then parse the html to obtain a list of the `movie_ids` for these movies. You can parse it with regular expression or using a library like `BeautifulSoup`.\n",
    "\n",
    "> **Hint:** movie_ids look like this: `tt2582802`\n",
    "> _Everything after \"/title/\" and before \"/?\"_"
   ]
  },
  {
   "cell_type": "code",
   "execution_count": 27,
   "metadata": {},
   "outputs": [],
   "source": [
    "def get_top_250():\n",
    "    response = requests.get('http://www.imdb.com/chart/toptv/?ref_=nv_tp_tv250_2')\n",
    "    html = response.text\n",
    "    # use greedy version to find everything after title to the next backslash in the a href element\n",
    "    entries = re.findall(\"<a href.*?/title/(.*?)/\", html) \n",
    "    # create a list of the top 250 results\n",
    "    return list(set(entries))"
   ]
  },
  {
   "cell_type": "code",
   "execution_count": 28,
   "metadata": {},
   "outputs": [],
   "source": [
    "entries = get_top_250()"
   ]
  },
  {
   "cell_type": "code",
   "execution_count": 29,
   "metadata": {},
   "outputs": [
    {
     "data": {
      "text/plain": [
       "251"
      ]
     },
     "execution_count": 29,
     "metadata": {},
     "output_type": "execute_result"
    }
   ],
   "source": [
    "len(entries)"
   ]
  },
  {
   "cell_type": "code",
   "execution_count": 30,
   "metadata": {},
   "outputs": [
    {
     "data": {
      "text/plain": [
       "'tt1119644'"
      ]
     },
     "execution_count": 30,
     "metadata": {},
     "output_type": "execute_result"
    }
   ],
   "source": [
    "entries[0]"
   ]
  },
  {
   "cell_type": "markdown",
   "metadata": {},
   "source": [
    "### 3.B Get data on the top movies\n",
    "\n",
    "Although the Internet Movie Database does not have a public API, an open API exists at http://www.tvmaze.com/api.\n",
    "\n",
    "Use this API to retrieve information about each of the 250 TV shows you have extracted in the previous step.\n",
    "1. Check the documentation of tvmaze's api to learn how to request show data by id.\n",
    "- Define a function that returns a python object with select information for a given id.\n",
    "    - Show name\n",
    "    - Rating (avg)\n",
    "    - Genre(s)\n",
    "    - Network name\n",
    "    - Premiere date\n",
    "    - Status\n",
    "> Tip: the json object can easily be converted into a python dictionary.\n",
    "\n",
    "- Store the gathered information in a Pandas Dataframe.\n",
    "\n",
    "\n",
    "As the target information is in json format you will need `json.loads(res.text)` in order to gather it."
   ]
  },
  {
   "cell_type": "markdown",
   "metadata": {},
   "source": [
    "Heres and example of the information and how we can interact with it."
   ]
  },
  {
   "cell_type": "code",
   "execution_count": 31,
   "metadata": {},
   "outputs": [
    {
     "name": "stdout",
     "output_type": "stream",
     "text": [
      "200\n",
      "Game of Thrones\n",
      "{'id': 82, 'url': 'http://www.tvmaze.com/shows/82/game-of-thrones', 'name': 'Game of Thrones', 'type': 'Scripted', 'language': 'English', 'genres': ['Drama', 'Adventure', 'Fantasy'], 'status': 'Running', 'runtime': 60, 'premiered': '2011-04-17', 'officialSite': 'http://www.hbo.com/game-of-thrones', 'schedule': {'time': '21:00', 'days': ['Sunday']}, 'rating': {'average': 9.4}, 'weight': 99, 'network': {'id': 8, 'name': 'HBO', 'country': {'name': 'United States', 'code': 'US', 'timezone': 'America/New_York'}}, 'webChannel': {'id': 22, 'name': 'HBO Go', 'country': {'name': 'United States', 'code': 'US', 'timezone': 'America/New_York'}}, 'externals': {'tvrage': 24493, 'thetvdb': 121361, 'imdb': 'tt0944947'}, 'image': {'medium': 'http://static.tvmaze.com/uploads/images/medium_portrait/143/359013.jpg', 'original': 'http://static.tvmaze.com/uploads/images/original_untouched/143/359013.jpg'}, 'summary': '<p>Based on the bestselling book series <i>A Song of Ice and Fire</i> by George R.R. Martin, this sprawling new HBO drama is set in a world where summers span decades and winters can last a lifetime. From the scheming south and the savage eastern lands, to the frozen north and ancient Wall that protects the realm from the mysterious darkness beyond, the powerful families of the Seven Kingdoms are locked in a battle for the Iron Throne. This is a story of duplicity and treachery, nobility and honor, conquest and triumph. In the <b>Game of Thrones</b>, you either win or you die.</p>', 'updated': 1529403380, '_links': {'self': {'href': 'http://api.tvmaze.com/shows/82'}, 'previousepisode': {'href': 'http://api.tvmaze.com/episodes/1221415'}}}\n"
     ]
    }
   ],
   "source": [
    "# example url\n",
    "res = requests.get('http://api.tvmaze.com/lookup/shows?imdb=tt0944947')\n",
    "\n",
    "# status code\n",
    "print(res.status_code)\n",
    "\n",
    "# just the contents of the name element\n",
    "print(json.loads(res.text).get('name'))\n",
    "\n",
    "# entire contents\n",
    "print(json.loads(res.text))"
   ]
  },
  {
   "cell_type": "code",
   "execution_count": 32,
   "metadata": {},
   "outputs": [],
   "source": [
    "#  function to pull information from API using Json interaction\n",
    "def get_entry(entry):\n",
    "    res=requests.get('http://api.tvmaze.com/lookup/shows?imdb='+entry)\n",
    "    if res.status_code == 200:\n",
    "        try:\n",
    "            status = json.loads(res.text).get('status')\n",
    "        except AttributeError:\n",
    "            status = 'NA'\n",
    "        try: \n",
    "            rating = json.loads(res.text).get('rating').get('average')\n",
    "        except AttributeError:\n",
    "            rating = 'NA'\n",
    "            \n",
    "        try:\n",
    "            network = json.loads(res.text).get('network').get('name')\n",
    "        except AttributeError:\n",
    "            network = 'NA'\n",
    "            \n",
    "        try:\n",
    "            title = json.loads(res.text).get('name')\n",
    "        except AttributeError:\n",
    "            title = 'NA'\n",
    "            \n",
    "        try:\n",
    "            premier = json.loads(res.text).get('premiered')\n",
    "        except AttributeError:\n",
    "            premier = 'NA'\n",
    "            \n",
    "        try:\n",
    "            genres = json.loads(res.text).get('genres')\n",
    "        except AttributeError:\n",
    "            genres = 'NA'\n",
    "\n",
    "        # takes local variables as a \n",
    "        shows_df.loc[len(shows_df)] = [title, rating, genres, network, premier, status]"
   ]
  },
  {
   "cell_type": "code",
   "execution_count": 33,
   "metadata": {},
   "outputs": [],
   "source": [
    "#  function to pull information from API converting Json into a python dictionary element\n",
    "def get_entry(entry):\n",
    "    res=requests.get('http://api.tvmaze.com/lookup/shows?imdb='+entry)\n",
    "    if res.status_code == 200:\n",
    "        results = json.loads(res.text)\n",
    "        \n",
    "        try:    \n",
    "            status = results['status']\n",
    "        except TypeError:\n",
    "            status = 'NA'   \n",
    "        try:\n",
    "            rating = results['rating']['average']\n",
    "        except TypeError:\n",
    "            rating = 'NA'\n",
    "        try:\n",
    "            network = results['network']['name']\n",
    "        except TypeError:\n",
    "            network = 'NA'\n",
    "        try:   \n",
    "            title = results['name']\n",
    "        except TypeError:\n",
    "            title = 'NA'\n",
    "        try:   \n",
    "            genres = results['genres']\n",
    "        except TypeError:\n",
    "            genres = 'NA'\n",
    "        try:   \n",
    "            premier = results['premiered']\n",
    "        except TypeError:\n",
    "            premier = 'NA'\n",
    "        \n",
    "        shows_df.loc[len(shows_df)] = [title, rating, genres, network, premier, status]"
   ]
  },
  {
   "cell_type": "code",
   "execution_count": 34,
   "metadata": {},
   "outputs": [],
   "source": [
    "# in both functions we are looking for specific elements.  If an element is missing an error will return thus the need\n",
    "# for try and except statements."
   ]
  },
  {
   "cell_type": "code",
   "execution_count": 35,
   "metadata": {},
   "outputs": [],
   "source": [
    "shows_df= pd.DataFrame( columns = ['show_name', 'rating_avg', 'genres', 'network', 'premiere_date', 'status'])\n",
    "\n",
    "for entry in entries:\n",
    "    get_entry(entry)"
   ]
  },
  {
   "cell_type": "code",
   "execution_count": 36,
   "metadata": {},
   "outputs": [
    {
     "data": {
      "text/html": [
       "<div>\n",
       "<style scoped>\n",
       "    .dataframe tbody tr th:only-of-type {\n",
       "        vertical-align: middle;\n",
       "    }\n",
       "\n",
       "    .dataframe tbody tr th {\n",
       "        vertical-align: top;\n",
       "    }\n",
       "\n",
       "    .dataframe thead th {\n",
       "        text-align: right;\n",
       "    }\n",
       "</style>\n",
       "<table border=\"1\" class=\"dataframe\">\n",
       "  <thead>\n",
       "    <tr style=\"text-align: right;\">\n",
       "      <th></th>\n",
       "      <th>show_name</th>\n",
       "      <th>rating_avg</th>\n",
       "      <th>genres</th>\n",
       "      <th>network</th>\n",
       "      <th>premiere_date</th>\n",
       "      <th>status</th>\n",
       "    </tr>\n",
       "  </thead>\n",
       "  <tbody>\n",
       "    <tr>\n",
       "      <th>0</th>\n",
       "      <td>Fringe</td>\n",
       "      <td>8.9</td>\n",
       "      <td>[Drama, Action, Science-Fiction]</td>\n",
       "      <td>FOX</td>\n",
       "      <td>2008-09-09</td>\n",
       "      <td>Ended</td>\n",
       "    </tr>\n",
       "    <tr>\n",
       "      <th>1</th>\n",
       "      <td>Cosmos</td>\n",
       "      <td>9.3</td>\n",
       "      <td>[]</td>\n",
       "      <td>FOX</td>\n",
       "      <td>2014-03-09</td>\n",
       "      <td>Running</td>\n",
       "    </tr>\n",
       "    <tr>\n",
       "      <th>2</th>\n",
       "      <td>Chef's Table</td>\n",
       "      <td>8.8</td>\n",
       "      <td>[Food]</td>\n",
       "      <td>NA</td>\n",
       "      <td>2015-04-26</td>\n",
       "      <td>Running</td>\n",
       "    </tr>\n",
       "    <tr>\n",
       "      <th>3</th>\n",
       "      <td>Louie</td>\n",
       "      <td>8.6</td>\n",
       "      <td>[Comedy]</td>\n",
       "      <td>FX</td>\n",
       "      <td>2010-06-29</td>\n",
       "      <td>Ended</td>\n",
       "    </tr>\n",
       "    <tr>\n",
       "      <th>4</th>\n",
       "      <td>Ghost in the Shell: Stand Alone Complex</td>\n",
       "      <td>8.0</td>\n",
       "      <td>[Action, Anime, Science-Fiction, Thriller]</td>\n",
       "      <td>Animax</td>\n",
       "      <td>2002-10-01</td>\n",
       "      <td>Ended</td>\n",
       "    </tr>\n",
       "  </tbody>\n",
       "</table>\n",
       "</div>"
      ],
      "text/plain": [
       "                                 show_name  rating_avg  \\\n",
       "0                                   Fringe         8.9   \n",
       "1                                   Cosmos         9.3   \n",
       "2                             Chef's Table         8.8   \n",
       "3                                    Louie         8.6   \n",
       "4  Ghost in the Shell: Stand Alone Complex         8.0   \n",
       "\n",
       "                                       genres network premiere_date   status  \n",
       "0            [Drama, Action, Science-Fiction]     FOX    2008-09-09    Ended  \n",
       "1                                          []     FOX    2014-03-09  Running  \n",
       "2                                      [Food]      NA    2015-04-26  Running  \n",
       "3                                    [Comedy]      FX    2010-06-29    Ended  \n",
       "4  [Action, Anime, Science-Fiction, Thriller]  Animax    2002-10-01    Ended  "
      ]
     },
     "execution_count": 36,
     "metadata": {},
     "output_type": "execute_result"
    }
   ],
   "source": [
    "shows_df.head()"
   ]
  },
  {
   "cell_type": "code",
   "execution_count": 37,
   "metadata": {},
   "outputs": [
    {
     "name": "stdout",
     "output_type": "stream",
     "text": [
      "<class 'pandas.core.frame.DataFrame'>\n",
      "Int64Index: 236 entries, 0 to 235\n",
      "Data columns (total 6 columns):\n",
      "show_name        236 non-null object\n",
      "rating_avg       213 non-null float64\n",
      "genres           236 non-null object\n",
      "network          236 non-null object\n",
      "premiere_date    236 non-null object\n",
      "status           236 non-null object\n",
      "dtypes: float64(1), object(5)\n",
      "memory usage: 12.9+ KB\n"
     ]
    }
   ],
   "source": [
    "shows_df.info()"
   ]
  },
  {
   "cell_type": "code",
   "execution_count": null,
   "metadata": {},
   "outputs": [],
   "source": []
  }
 ],
 "metadata": {
  "kernelspec": {
   "display_name": "Python 3",
   "language": "python",
   "name": "python3"
  },
  "language_info": {
   "codemirror_mode": {
    "name": "ipython",
    "version": 3
   },
   "file_extension": ".py",
   "mimetype": "text/x-python",
   "name": "python",
   "nbconvert_exporter": "python",
   "pygments_lexer": "ipython3",
   "version": "3.6.4"
  }
 },
 "nbformat": 4,
 "nbformat_minor": 1
}
