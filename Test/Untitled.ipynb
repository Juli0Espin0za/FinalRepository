{
 "cells": [
  {
   "cell_type": "code",
   "execution_count": 7,
   "metadata": {},
   "outputs": [],
   "source": [
    "def  oddNumbers(l, r):\n",
    "    temp = l\n",
    "    while temp <= r:\n",
    "        if temp%2 != 0:\n",
    "            print (temp) \n",
    "        temp+=1"
   ]
  },
  {
   "cell_type": "code",
   "execution_count": 8,
   "metadata": {},
   "outputs": [
    {
     "name": "stdout",
     "output_type": "stream",
     "text": [
      "3\n",
      "5\n"
     ]
    }
   ],
   "source": [
    "oddNumbers(2,5)"
   ]
  },
  {
   "cell_type": "code",
   "execution_count": null,
   "metadata": {},
   "outputs": [],
   "source": [
    "def find(zombie):\n",
    "    row = len(zombie)\n",
    "    col = len(zombie[0])\n",
    "    "
   ]
  },
  {
   "cell_type": "code",
   "execution_count": 10,
   "metadata": {},
   "outputs": [
    {
     "name": "stdout",
     "output_type": "stream",
     "text": [
      "0 0\n",
      "1 1\n",
      "2 2\n",
      "3 3\n"
     ]
    }
   ],
   "source": [
    "row = 4\n",
    "col = 4\n",
    "\n",
    "for i,j in zip(range(row),range(col)):\n",
    "    print (i,j)\n"
   ]
  },
  {
   "cell_type": "code",
   "execution_count": 50,
   "metadata": {},
   "outputs": [
    {
     "name": "stdout",
     "output_type": "stream",
     "text": [
      "2\n"
     ]
    }
   ],
   "source": [
    "def DFS(j, visited, zombies, row):\n",
    "    for k in range(row):\n",
    "        if zombies[j][k] == '1' and visited[j][k] == False and visited[k][j] == False:\n",
    "            visited[j][k] = True\n",
    "            visited[k][j] = True\n",
    "            DFS(k,visited,zombies, row) \n",
    "\n",
    "def  zombieCluster(zombies):\n",
    "    row = len(zombies)\n",
    "    col = len(zombies[0])\n",
    "    count = 0\n",
    "    if row == 0 or col == 0:\n",
    "        return count\n",
    "#     print(row, col)\n",
    "    visited = [[False for j in range(col)]for i in range(row)]\n",
    "    for i in range(row):\n",
    "        bol = False\n",
    "        for j in range(row):\n",
    "            if zombies[i][j] == '1' and visited[i][j] == False and visited[j][i] == False:\n",
    "                visited[i][j] = True\n",
    "                visited[j][i] = True\n",
    "                DFS(j,visited,zombies, row) \n",
    "                if bol == False:\n",
    "                    count += 1\n",
    "                    bol = True\n",
    "    return count\n",
    "# zombies = [\"10011\" ,\"00110\", \"11000\", \"01000\", \"10101\"]\n",
    "zombies = [\"1100\" ,\"1110\", \"0110\", \"0001\"]\n",
    "print(zombieCluster(zombies))"
   ]
  },
  {
   "cell_type": "code",
   "execution_count": 47,
   "metadata": {},
   "outputs": [
    {
     "name": "stdout",
     "output_type": "stream",
     "text": [
      "4\n"
     ]
    }
   ],
   "source": [
    "def zombieSub(i, row, connected, zombies):\n",
    "    for k in range(row):\n",
    "        if zombies[i][k] == '1' and connected[i][k] == False and connected[i][k] == False:\n",
    "            connected[i][k] = True\n",
    "            connected[k][i] = True\n",
    "            zombieSub(k, row, connected, zombies)\n",
    "\n",
    "def zombieCluster(zombies):\n",
    "    row = len(zombies)\n",
    "    col = len(zombies[0])\n",
    "    count = 0\n",
    "    if row == 0 or col == 0:\n",
    "        return count\n",
    "    connected = [[False for i in range(col)] for j in range(row)]\n",
    "    for j in range(row):\n",
    "        clus = False\n",
    "        for i in range(col):\n",
    "            if zombies[j][i] == '1' and connected[j][i] == False and connected[i][j] == False:\n",
    "                connected[j][i] = True\n",
    "                connected[i][j] = True\n",
    "                zombieSub(i, row, connected, zombies)\n",
    "            if clus == False:\n",
    "                count += 1\n",
    "                clus = True\n",
    "            \n",
    "    return count\n",
    "    \n",
    "zombies = [\"1100\" ,\"1110\", \"0110\", \"0001\" ]\n",
    "print(zombieCluster(zombies))"
   ]
  },
  {
   "cell_type": "code",
   "execution_count": 32,
   "metadata": {},
   "outputs": [
    {
     "data": {
      "text/plain": [
       "[[False, False, False, False],\n",
       " [False, False, False, False],\n",
       " [False, False, False, False],\n",
       " [False, False, False, False]]"
      ]
     },
     "execution_count": 32,
     "metadata": {},
     "output_type": "execute_result"
    }
   ],
   "source": [
    "visited"
   ]
  },
  {
   "cell_type": "code",
   "execution_count": 33,
   "metadata": {},
   "outputs": [
    {
     "data": {
      "text/plain": [
       "['1100', '1110', '0110', '0001']"
      ]
     },
     "execution_count": 33,
     "metadata": {},
     "output_type": "execute_result"
    }
   ],
   "source": [
    "zombies"
   ]
  },
  {
   "cell_type": "code",
   "execution_count": 34,
   "metadata": {},
   "outputs": [],
   "source": [
    "for i in range(4):\n",
    "    for j in range(4):\n",
    "        if zombies[i][j] == '1' and visited[i][j] == False and visited[j][i] == False:\n",
    "            visited[i][j] = True\n",
    "            visited[j][i] = True"
   ]
  },
  {
   "cell_type": "code",
   "execution_count": 35,
   "metadata": {},
   "outputs": [
    {
     "data": {
      "text/plain": [
       "[[True, True, False, False],\n",
       " [True, True, True, False],\n",
       " [False, True, True, False],\n",
       " [False, False, False, True]]"
      ]
     },
     "execution_count": 35,
     "metadata": {},
     "output_type": "execute_result"
    }
   ],
   "source": [
    "visited"
   ]
  },
  {
   "cell_type": "code",
   "execution_count": null,
   "metadata": {},
   "outputs": [],
   "source": [
    "def zombieSub(i, row, connected, zombies):\n",
    "    for k in range(row):\n",
    "        if zombies[i][k] == '1' and connected[i][k] == False and connected[i][k] == False:\n",
    "            connected[i][k] = True\n",
    "            connected[k][i] = True\n",
    "            zombieSub(k, row, connected, zombies)\n",
    "\n",
    "def zombieCluster(zombies):\n",
    "    row = len(zombies)\n",
    "    col = len(zombies[0])\n",
    "    count = 0\n",
    "    if row == 0 or col == 0:\n",
    "        return count\n",
    "    connected = [[False for i in range(col)] for j in range(row)]\n",
    "    for j in range(row):\n",
    "        clus = False\n",
    "        for i in range(col):\n",
    "            if zombies[j][i] == '1' and connected[j][i] == False and connected[i][j] == False:\n",
    "                connected[j][i] = True\n",
    "                connected[i][j] = True\n",
    "                zombieSub(i, row, connected, zombies)\n",
    "                if clus == False:\n",
    "                    count += 1\n",
    "                    clus = True\n",
    "            \n",
    "    return count\n",
    "                "
   ]
  },
  {
   "cell_type": "code",
   "execution_count": 52,
   "metadata": {},
   "outputs": [
    {
     "data": {
      "text/plain": [
       "[0, 3, 6, 9]"
      ]
     },
     "execution_count": 52,
     "metadata": {},
     "output_type": "execute_result"
    }
   ],
   "source": [
    "b = [0,1,2,3,4,5,6,7,8,9]\n",
    "b[::3]"
   ]
  },
  {
   "cell_type": "code",
   "execution_count": null,
   "metadata": {},
   "outputs": [],
   "source": []
  }
 ],
 "metadata": {
  "kernelspec": {
   "display_name": "Python 3",
   "language": "python",
   "name": "python3"
  },
  "language_info": {
   "codemirror_mode": {
    "name": "ipython",
    "version": 3
   },
   "file_extension": ".py",
   "mimetype": "text/x-python",
   "name": "python",
   "nbconvert_exporter": "python",
   "pygments_lexer": "ipython3",
   "version": "3.6.4"
  }
 },
 "nbformat": 4,
 "nbformat_minor": 2
}
