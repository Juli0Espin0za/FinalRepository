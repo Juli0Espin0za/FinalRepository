{
 "cells": [
  {
   "cell_type": "markdown",
   "metadata": {},
   "source": [
    "### For Loops"
   ]
  },
  {
   "cell_type": "code",
   "execution_count": 1,
   "metadata": {},
   "outputs": [],
   "source": [
    "europe = ['Hungary', 'France', 'Sweden', 'Czech', 'Portugal', 'Belarus']\n",
    "asia = ['Japan', 'Nepal', 'Thailand', 'Laos', 'Pakistan', 'Mongolia', 'Cambodia']\n",
    "africa = ['Niger', 'Botswana', 'Gabon', 'Comoros', 'Burundi', 'Tunisia', 'Chad', 'Ethiopia', 'Senegal']"
   ]
  },
  {
   "cell_type": "code",
   "execution_count": 2,
   "metadata": {},
   "outputs": [
    {
     "name": "stdout",
     "output_type": "stream",
     "text": [
      "Hungary | Japan | Niger\n",
      "France | Nepal | Botswana\n",
      "Sweden | Thailand | Gabon\n",
      "Czech | Laos | Comoros\n",
      "Portugal | Pakistan | Burundi\n",
      "Belarus | Mongolia | Tunisia\n"
     ]
    }
   ],
   "source": [
    "for i,j,k in zip(europe, asia, africa):\n",
    "    print (i + ' | ' + j + ' | ' + k)"
   ]
  },
  {
   "cell_type": "code",
   "execution_count": 3,
   "metadata": {},
   "outputs": [
    {
     "name": "stdout",
     "output_type": "stream",
     "text": [
      "0 Hungary\n",
      "1 France\n",
      "2 Sweden\n",
      "3 Czech\n",
      "4 Portugal\n",
      "5 Belarus\n"
     ]
    }
   ],
   "source": [
    "for i,x in enumerate(europe):\n",
    "    print (i, x)"
   ]
  },
  {
   "cell_type": "markdown",
   "metadata": {},
   "source": [
    "### Functions - Positional vs Keyword Arguments"
   ]
  },
  {
   "cell_type": "code",
   "execution_count": 4,
   "metadata": {},
   "outputs": [],
   "source": [
    "def info(firstname, lastname, phone):\n",
    "    print(\"First name: %s\" % firstname.title())\n",
    "    print(\"Last name: %s\" % lastname.title())\n",
    "    print(\"Age: %d\" % phone)"
   ]
  },
  {
   "cell_type": "code",
   "execution_count": 5,
   "metadata": {},
   "outputs": [
    {
     "name": "stdout",
     "output_type": "stream",
     "text": [
      "First name: Tyrion\n",
      "Last name: Lannister\n",
      "Age: 1234567890\n"
     ]
    }
   ],
   "source": [
    "info('tyrion', 'lannister', 1234567890)"
   ]
  },
  {
   "cell_type": "code",
   "execution_count": 6,
   "metadata": {},
   "outputs": [
    {
     "ename": "AttributeError",
     "evalue": "'int' object has no attribute 'title'",
     "output_type": "error",
     "traceback": [
      "\u001b[0;31m---------------------------------------------------------------------------\u001b[0m",
      "\u001b[0;31mAttributeError\u001b[0m                            Traceback (most recent call last)",
      "\u001b[0;32m<ipython-input-6-830e53485935>\u001b[0m in \u001b[0;36m<module>\u001b[0;34m()\u001b[0m\n\u001b[1;32m      1\u001b[0m \u001b[0;31m# Positional argument\u001b[0m\u001b[0;34m\u001b[0m\u001b[0;34m\u001b[0m\u001b[0m\n\u001b[0;32m----> 2\u001b[0;31m \u001b[0minfo\u001b[0m\u001b[0;34m(\u001b[0m\u001b[0;36m1234567890\u001b[0m\u001b[0;34m,\u001b[0m \u001b[0;34m'lannister'\u001b[0m\u001b[0;34m,\u001b[0m \u001b[0;34m'tyrion'\u001b[0m\u001b[0;34m)\u001b[0m\u001b[0;34m\u001b[0m\u001b[0m\n\u001b[0m",
      "\u001b[0;32m<ipython-input-4-2ce238f225e5>\u001b[0m in \u001b[0;36minfo\u001b[0;34m(firstname, lastname, phone)\u001b[0m\n\u001b[1;32m      1\u001b[0m \u001b[0;32mdef\u001b[0m \u001b[0minfo\u001b[0m\u001b[0;34m(\u001b[0m\u001b[0mfirstname\u001b[0m\u001b[0;34m,\u001b[0m \u001b[0mlastname\u001b[0m\u001b[0;34m,\u001b[0m \u001b[0mphone\u001b[0m\u001b[0;34m)\u001b[0m\u001b[0;34m:\u001b[0m\u001b[0;34m\u001b[0m\u001b[0m\n\u001b[0;32m----> 2\u001b[0;31m     \u001b[0mprint\u001b[0m\u001b[0;34m(\u001b[0m\u001b[0;34m\"First name: %s\"\u001b[0m \u001b[0;34m%\u001b[0m \u001b[0mfirstname\u001b[0m\u001b[0;34m.\u001b[0m\u001b[0mtitle\u001b[0m\u001b[0;34m(\u001b[0m\u001b[0;34m)\u001b[0m\u001b[0;34m)\u001b[0m\u001b[0;34m\u001b[0m\u001b[0m\n\u001b[0m\u001b[1;32m      3\u001b[0m     \u001b[0mprint\u001b[0m\u001b[0;34m(\u001b[0m\u001b[0;34m\"Last name: %s\"\u001b[0m \u001b[0;34m%\u001b[0m \u001b[0mlastname\u001b[0m\u001b[0;34m.\u001b[0m\u001b[0mtitle\u001b[0m\u001b[0;34m(\u001b[0m\u001b[0;34m)\u001b[0m\u001b[0;34m)\u001b[0m\u001b[0;34m\u001b[0m\u001b[0m\n\u001b[1;32m      4\u001b[0m     \u001b[0mprint\u001b[0m\u001b[0;34m(\u001b[0m\u001b[0;34m\"Age: %d\"\u001b[0m \u001b[0;34m%\u001b[0m \u001b[0mphone\u001b[0m\u001b[0;34m)\u001b[0m\u001b[0;34m\u001b[0m\u001b[0m\n",
      "\u001b[0;31mAttributeError\u001b[0m: 'int' object has no attribute 'title'"
     ]
    }
   ],
   "source": [
    "# Positional argument\n",
    "info(1234567890, 'lannister', 'tyrion')"
   ]
  },
  {
   "cell_type": "code",
   "execution_count": 7,
   "metadata": {},
   "outputs": [],
   "source": [
    "def info(firstname, lastname, phone):\n",
    "    print(\"First name: %s\" % firstname.title())\n",
    "    print(\"Last name: %s\" % lastname.title())\n",
    "    print(\"Age: %d\" % phone)\n"
   ]
  },
  {
   "cell_type": "code",
   "execution_count": 8,
   "metadata": {},
   "outputs": [
    {
     "name": "stdout",
     "output_type": "stream",
     "text": [
      "First name: Tyrion\n",
      "Last name: Lannister\n",
      "Age: 1234567890\n"
     ]
    }
   ],
   "source": [
    "# Keyword argument\n",
    "info(phone=1234567890, lastname='lannister', firstname='tyrion')"
   ]
  },
  {
   "cell_type": "code",
   "execution_count": 9,
   "metadata": {},
   "outputs": [
    {
     "name": "stdout",
     "output_type": "stream",
     "text": [
      "First name: Tyrion\n",
      "Last name: Lannister\n",
      "Age: 1234567890\n"
     ]
    }
   ],
   "source": [
    "# Mixing positional arguments with keyword arguments\n",
    "info('tyrion', phone=1234567890, lastname='lannister')"
   ]
  },
  {
   "cell_type": "code",
   "execution_count": 10,
   "metadata": {},
   "outputs": [
    {
     "ename": "TypeError",
     "evalue": "info() missing 1 required positional argument: 'phone'",
     "output_type": "error",
     "traceback": [
      "\u001b[0;31m---------------------------------------------------------------------------\u001b[0m",
      "\u001b[0;31mTypeError\u001b[0m                                 Traceback (most recent call last)",
      "\u001b[0;32m<ipython-input-10-6ca313885182>\u001b[0m in \u001b[0;36m<module>\u001b[0;34m()\u001b[0m\n\u001b[0;32m----> 1\u001b[0;31m \u001b[0minfo\u001b[0m\u001b[0;34m(\u001b[0m\u001b[0;34m'tyrion'\u001b[0m\u001b[0;34m,\u001b[0m \u001b[0;34m'lannister'\u001b[0m\u001b[0;34m)\u001b[0m\u001b[0;34m\u001b[0m\u001b[0m\n\u001b[0m",
      "\u001b[0;31mTypeError\u001b[0m: info() missing 1 required positional argument: 'phone'"
     ]
    }
   ],
   "source": [
    "info('tyrion', 'lannister')"
   ]
  },
  {
   "cell_type": "code",
   "execution_count": 11,
   "metadata": {},
   "outputs": [],
   "source": [
    "# Setting a default argument\n",
    "def info2(firstname, lastname, phone=1234567890):\n",
    "    # Note: a non-default argument cannot follow a defaulr argument\n",
    "    print(\"First name: %s\" % firstname.title())\n",
    "    print(\"Last name: %s\" % lastname.title())\n",
    "    print(\"Age: %d\" % phone)"
   ]
  },
  {
   "cell_type": "code",
   "execution_count": 12,
   "metadata": {},
   "outputs": [
    {
     "name": "stdout",
     "output_type": "stream",
     "text": [
      "First name: Tyrion\n",
      "Last name: Lannister\n",
      "Age: 1234567890\n"
     ]
    }
   ],
   "source": [
    "info2('tyrion', 'lannister')"
   ]
  },
  {
   "cell_type": "markdown",
   "metadata": {},
   "source": [
    "### Classes"
   ]
  },
  {
   "cell_type": "code",
   "execution_count": 13,
   "metadata": {},
   "outputs": [],
   "source": [
    "import numpy as np"
   ]
  },
  {
   "cell_type": "code",
   "execution_count": 14,
   "metadata": {},
   "outputs": [],
   "source": [
    "class Robot:\n",
    "    def __init__(self):\n",
    "        self.x = 0\n",
    "        self.y = 0\n",
    "        \n",
    "    def move_up(self, increase):\n",
    "        self.y = self.y + increase\n",
    "        \n",
    "    def move_down(self, decrease):\n",
    "        self.y = self.y - decrease\n",
    "    \n",
    "    def move_right(self, increase):\n",
    "        self.x = self.x + increase\n",
    "        \n",
    "    def move_left(self, decrease):\n",
    "        self.x = self.x - decrease\n",
    "        \n",
    "    def calc_distance(self):\n",
    "        # From Pythagora's Theorem\n",
    "        distance = ( np.abs(self.x)**2 + np.abs(self.y)**2 )**0.5\n",
    "        return distance\n",
    "    "
   ]
  },
  {
   "cell_type": "code",
   "execution_count": 15,
   "metadata": {},
   "outputs": [],
   "source": [
    "myRobot = Robot()"
   ]
  },
  {
   "cell_type": "code",
   "execution_count": 16,
   "metadata": {},
   "outputs": [
    {
     "data": {
      "text/plain": [
       "<__main__.Robot at 0x110d303c8>"
      ]
     },
     "execution_count": 16,
     "metadata": {},
     "output_type": "execute_result"
    }
   ],
   "source": [
    "myRobot"
   ]
  },
  {
   "cell_type": "code",
   "execution_count": 17,
   "metadata": {},
   "outputs": [
    {
     "data": {
      "text/plain": [
       "4.123105625617661"
      ]
     },
     "execution_count": 17,
     "metadata": {},
     "output_type": "execute_result"
    }
   ],
   "source": [
    "myRobot.move_up(2)\n",
    "myRobot.move_right(3)\n",
    "myRobot.move_left(2)\n",
    "myRobot.move_down(6)\n",
    "myRobot.calc_distance()"
   ]
  },
  {
   "cell_type": "code",
   "execution_count": 18,
   "metadata": {},
   "outputs": [],
   "source": [
    "myRobots = []\n",
    "\n",
    "for i in range(0,4):\n",
    "    myrobot = Robot()\n",
    "    myRobots.append(myRobot)"
   ]
  },
  {
   "cell_type": "code",
   "execution_count": 19,
   "metadata": {},
   "outputs": [
    {
     "data": {
      "text/plain": [
       "[<__main__.Robot at 0x110d303c8>,\n",
       " <__main__.Robot at 0x110d303c8>,\n",
       " <__main__.Robot at 0x110d303c8>,\n",
       " <__main__.Robot at 0x110d303c8>]"
      ]
     },
     "execution_count": 19,
     "metadata": {},
     "output_type": "execute_result"
    }
   ],
   "source": [
    "myRobots"
   ]
  },
  {
   "cell_type": "code",
   "execution_count": 20,
   "metadata": {},
   "outputs": [],
   "source": [
    "import datetime\n",
    "import pandas as pd"
   ]
  },
  {
   "cell_type": "code",
   "execution_count": 21,
   "metadata": {},
   "outputs": [],
   "source": [
    "class BeautyInsider: \n",
    "    def __init__(self, name, points, birthday,\n",
    "                 purchasetoday=0, redeemedpoints=0, rinvitation='No', rmonthlygift='No',\n",
    "                 rbirthdaygift='No'):\n",
    "        self.name = name\n",
    "        self.points = points\n",
    "        self.birthday = birthday\n",
    "        self.purchasetoday = purchasetoday\n",
    "        self.redeemedpoints = redeemedpoints\n",
    "        self.rinvitattion = rinvitation\n",
    "        self.rmonthlygift = rmonthlygift\n",
    "        self.rbirthdaygift = rbirthdaygift\n",
    "    \n",
    "    def add_points(self):\n",
    "        self.points = self.points + self.purchasetoday - self.redeemedpoints\n",
    "        return self.points\n",
    "        \n",
    "    def get_birthday(self):\n",
    "        if self.birthday == datetime.datetime.now().month\\\n",
    "        and self.rbirthdaygift == 'No':\n",
    "            self.rbirthdaygift = 'Yes'\n",
    "            return \"Say 'Happy Birthday, {}' and give birthday gift\".format(self.name)\n",
    "        else:\n",
    "            return 'Do not send birthday gift to {}'.format(self.name)\n",
    "    \n",
    "    def monthly_gift(self):\n",
    "        if self.points >= 350 and self.rmonthlygift == 'No':\n",
    "            self.rmonthlygift = 'Yes'\n",
    "            return 'Send monthly gift'\n",
    "        else:\n",
    "            return \"Do not send monthly gift\"\n",
    "    \n",
    "    def invitation(self):\n",
    "        if self.points >= 1000 and self.rinvitattion == 'No':\n",
    "            self.rbirthdaygift = 'Yes'\n",
    "            return 'Send invitation'\n",
    "        else:\n",
    "            return 'Do not send invitation'\n",
    "        \n",
    "        \n",
    "    def print_summary(self):\n",
    "        summary = pd.DataFrame({'Benefits':['Total points', 'Birthday gift',\n",
    "                                            'Monthly gift', 'Invitation'],\n",
    "                                'Instructions': [self.add_points(), self.get_birthday(),\n",
    "                                                 self.monthly_gift(), self.invitation()]})\n",
    "        return summary\n",
    "        \n",
    "        "
   ]
  },
  {
   "cell_type": "code",
   "execution_count": 22,
   "metadata": {},
   "outputs": [],
   "source": [
    "myBI = BeautyInsider('Dami', 500, 5, 200)"
   ]
  },
  {
   "cell_type": "code",
   "execution_count": 23,
   "metadata": {},
   "outputs": [
    {
     "data": {
      "text/html": [
       "<div>\n",
       "<style scoped>\n",
       "    .dataframe tbody tr th:only-of-type {\n",
       "        vertical-align: middle;\n",
       "    }\n",
       "\n",
       "    .dataframe tbody tr th {\n",
       "        vertical-align: top;\n",
       "    }\n",
       "\n",
       "    .dataframe thead th {\n",
       "        text-align: right;\n",
       "    }\n",
       "</style>\n",
       "<table border=\"1\" class=\"dataframe\">\n",
       "  <thead>\n",
       "    <tr style=\"text-align: right;\">\n",
       "      <th></th>\n",
       "      <th>Benefits</th>\n",
       "      <th>Instructions</th>\n",
       "    </tr>\n",
       "  </thead>\n",
       "  <tbody>\n",
       "    <tr>\n",
       "      <th>0</th>\n",
       "      <td>Total points</td>\n",
       "      <td>700</td>\n",
       "    </tr>\n",
       "    <tr>\n",
       "      <th>1</th>\n",
       "      <td>Birthday gift</td>\n",
       "      <td>Say 'Happy Birthday, Dami' and give birthday gift</td>\n",
       "    </tr>\n",
       "    <tr>\n",
       "      <th>2</th>\n",
       "      <td>Monthly gift</td>\n",
       "      <td>Send monthly gift</td>\n",
       "    </tr>\n",
       "    <tr>\n",
       "      <th>3</th>\n",
       "      <td>Invitation</td>\n",
       "      <td>Do not send invitation</td>\n",
       "    </tr>\n",
       "  </tbody>\n",
       "</table>\n",
       "</div>"
      ],
      "text/plain": [
       "        Benefits                                       Instructions\n",
       "0   Total points                                                700\n",
       "1  Birthday gift  Say 'Happy Birthday, Dami' and give birthday gift\n",
       "2   Monthly gift                                  Send monthly gift\n",
       "3     Invitation                             Do not send invitation"
      ]
     },
     "execution_count": 23,
     "metadata": {},
     "output_type": "execute_result"
    }
   ],
   "source": [
    "myBI.print_summary()"
   ]
  },
  {
   "cell_type": "code",
   "execution_count": 24,
   "metadata": {},
   "outputs": [],
   "source": [
    "df = pd.read_csv('sephora_shoppers.csv')"
   ]
  },
  {
   "cell_type": "code",
   "execution_count": 25,
   "metadata": {},
   "outputs": [
    {
     "data": {
      "text/html": [
       "<div>\n",
       "<style scoped>\n",
       "    .dataframe tbody tr th:only-of-type {\n",
       "        vertical-align: middle;\n",
       "    }\n",
       "\n",
       "    .dataframe tbody tr th {\n",
       "        vertical-align: top;\n",
       "    }\n",
       "\n",
       "    .dataframe thead th {\n",
       "        text-align: right;\n",
       "    }\n",
       "</style>\n",
       "<table border=\"1\" class=\"dataframe\">\n",
       "  <thead>\n",
       "    <tr style=\"text-align: right;\">\n",
       "      <th></th>\n",
       "      <th>Birthday_Month</th>\n",
       "      <th>Name</th>\n",
       "      <th>Points</th>\n",
       "      <th>Received_Birthday_Gift</th>\n",
       "      <th>Received_Invite</th>\n",
       "      <th>Received_Monthly_Gift</th>\n",
       "      <th>Redeemed_Points</th>\n",
       "      <th>Todays_Purchase</th>\n",
       "    </tr>\n",
       "  </thead>\n",
       "  <tbody>\n",
       "    <tr>\n",
       "      <th>0</th>\n",
       "      <td>6</td>\n",
       "      <td>Jon</td>\n",
       "      <td>695</td>\n",
       "      <td>No</td>\n",
       "      <td>Yes</td>\n",
       "      <td>No</td>\n",
       "      <td>0</td>\n",
       "      <td>430</td>\n",
       "    </tr>\n",
       "    <tr>\n",
       "      <th>1</th>\n",
       "      <td>11</td>\n",
       "      <td>Tywin</td>\n",
       "      <td>264</td>\n",
       "      <td>No</td>\n",
       "      <td>No</td>\n",
       "      <td>No</td>\n",
       "      <td>100</td>\n",
       "      <td>45</td>\n",
       "    </tr>\n",
       "    <tr>\n",
       "      <th>2</th>\n",
       "      <td>1</td>\n",
       "      <td>Daenerys</td>\n",
       "      <td>887</td>\n",
       "      <td>No</td>\n",
       "      <td>No</td>\n",
       "      <td>No</td>\n",
       "      <td>0</td>\n",
       "      <td>98</td>\n",
       "    </tr>\n",
       "    <tr>\n",
       "      <th>3</th>\n",
       "      <td>7</td>\n",
       "      <td>Arya</td>\n",
       "      <td>70</td>\n",
       "      <td>No</td>\n",
       "      <td>No</td>\n",
       "      <td>No</td>\n",
       "      <td>50</td>\n",
       "      <td>121</td>\n",
       "    </tr>\n",
       "    <tr>\n",
       "      <th>4</th>\n",
       "      <td>5</td>\n",
       "      <td>Jamie</td>\n",
       "      <td>942</td>\n",
       "      <td>Yes</td>\n",
       "      <td>No</td>\n",
       "      <td>No</td>\n",
       "      <td>0</td>\n",
       "      <td>77</td>\n",
       "    </tr>\n",
       "    <tr>\n",
       "      <th>5</th>\n",
       "      <td>5</td>\n",
       "      <td>Cersei</td>\n",
       "      <td>300</td>\n",
       "      <td>No</td>\n",
       "      <td>No</td>\n",
       "      <td>No</td>\n",
       "      <td>0</td>\n",
       "      <td>256</td>\n",
       "    </tr>\n",
       "  </tbody>\n",
       "</table>\n",
       "</div>"
      ],
      "text/plain": [
       "   Birthday_Month      Name  Points Received_Birthday_Gift Received_Invite  \\\n",
       "0               6       Jon     695                     No             Yes   \n",
       "1              11     Tywin     264                     No              No   \n",
       "2               1  Daenerys     887                     No              No   \n",
       "3               7      Arya      70                     No              No   \n",
       "4               5     Jamie     942                    Yes              No   \n",
       "5               5    Cersei     300                     No              No   \n",
       "\n",
       "  Received_Monthly_Gift  Redeemed_Points  Todays_Purchase  \n",
       "0                    No                0              430  \n",
       "1                    No              100               45  \n",
       "2                    No                0               98  \n",
       "3                    No               50              121  \n",
       "4                    No                0               77  \n",
       "5                    No                0              256  "
      ]
     },
     "execution_count": 25,
     "metadata": {},
     "output_type": "execute_result"
    }
   ],
   "source": [
    "df"
   ]
  },
  {
   "cell_type": "code",
   "execution_count": 26,
   "metadata": {},
   "outputs": [],
   "source": [
    "InsiderStatus = []\n",
    "\n",
    "for i in range(len(pd.DataFrame(df))):\n",
    "    myBI = BeautyInsider(df.iloc[i][1], df.iloc[i][2], df.iloc[i][0], \n",
    "                         df.iloc[i][7], df.iloc[i][6], df.iloc[i][4], \n",
    "                         df.iloc[i][5], df.iloc[i][3])\n",
    "    InsiderStatus.append(myBI.print_summary())"
   ]
  },
  {
   "cell_type": "code",
   "execution_count": 27,
   "metadata": {},
   "outputs": [
    {
     "data": {
      "text/plain": [
       "[        Benefits                      Instructions\n",
       " 0   Total points                              1125\n",
       " 1  Birthday gift  Do not send birthday gift to Jon\n",
       " 2   Monthly gift                 Send monthly gift\n",
       " 3     Invitation            Do not send invitation,\n",
       "         Benefits                        Instructions\n",
       " 0   Total points                                 209\n",
       " 1  Birthday gift  Do not send birthday gift to Tywin\n",
       " 2   Monthly gift            Do not send monthly gift\n",
       " 3     Invitation              Do not send invitation,\n",
       "         Benefits                           Instructions\n",
       " 0   Total points                                    985\n",
       " 1  Birthday gift  Do not send birthday gift to Daenerys\n",
       " 2   Monthly gift                      Send monthly gift\n",
       " 3     Invitation                 Do not send invitation,\n",
       "         Benefits                       Instructions\n",
       " 0   Total points                                141\n",
       " 1  Birthday gift  Do not send birthday gift to Arya\n",
       " 2   Monthly gift           Do not send monthly gift\n",
       " 3     Invitation             Do not send invitation,\n",
       "         Benefits                        Instructions\n",
       " 0   Total points                                1019\n",
       " 1  Birthday gift  Do not send birthday gift to Jamie\n",
       " 2   Monthly gift                   Send monthly gift\n",
       " 3     Invitation                     Send invitation,\n",
       "         Benefits                                       Instructions\n",
       " 0   Total points                                                556\n",
       " 1  Birthday gift  Say 'Happy Birthday, Cersei' and give birthday...\n",
       " 2   Monthly gift                                  Send monthly gift\n",
       " 3     Invitation                             Do not send invitation]"
      ]
     },
     "execution_count": 27,
     "metadata": {},
     "output_type": "execute_result"
    }
   ],
   "source": [
    "InsiderStatus"
   ]
  },
  {
   "cell_type": "code",
   "execution_count": null,
   "metadata": {},
   "outputs": [],
   "source": []
  }
 ],
 "metadata": {
  "kernelspec": {
   "display_name": "Python 3",
   "language": "python",
   "name": "python3"
  },
  "language_info": {
   "codemirror_mode": {
    "name": "ipython",
    "version": 3
   },
   "file_extension": ".py",
   "mimetype": "text/x-python",
   "name": "python",
   "nbconvert_exporter": "python",
   "pygments_lexer": "ipython3",
   "version": "3.6.4"
  }
 },
 "nbformat": 4,
 "nbformat_minor": 2
}
