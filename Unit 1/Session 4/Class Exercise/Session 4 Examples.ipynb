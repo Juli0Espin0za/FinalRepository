{
 "cells": [
  {
   "cell_type": "markdown",
   "metadata": {},
   "source": [
    "### For Loops"
   ]
  },
  {
   "cell_type": "code",
   "execution_count": null,
   "metadata": {},
   "outputs": [],
   "source": [
    "europe = ['Hungary', 'France', 'Sweden', 'Czech', 'Portugal', 'Belarus']\n",
    "asia = ['Japan', 'Nepal', 'Thailand', 'Laos', 'Pakistan', 'Mongolia', 'Cambodia']\n",
    "africa = ['Niger', 'Botswana', 'Gabon', 'Comoros', 'Burundi', 'Tunisia', 'Chad', 'Ethiopia', 'Senegal']"
   ]
  },
  {
   "cell_type": "code",
   "execution_count": null,
   "metadata": {},
   "outputs": [],
   "source": [
    "for i,j,k in zip(europe, asia, africa):\n",
    "    print (i + ' | ' + j + ' | ' + k)"
   ]
  },
  {
   "cell_type": "code",
   "execution_count": null,
   "metadata": {},
   "outputs": [],
   "source": [
    "for i,x in enumerate(europe):\n",
    "    print (i, x)"
   ]
  },
  {
   "cell_type": "markdown",
   "metadata": {},
   "source": [
    "### Functions - Positional vs Keyword Arguments"
   ]
  },
  {
   "cell_type": "code",
   "execution_count": null,
   "metadata": {},
   "outputs": [],
   "source": [
    "def info(firstname, lastname, phone):\n",
    "    print(\"First name: %s\" % firstname.title())\n",
    "    print(\"Last name: %s\" % lastname.title())\n",
    "    print(\"Age: %d\" % phone)"
   ]
  },
  {
   "cell_type": "code",
   "execution_count": null,
   "metadata": {},
   "outputs": [],
   "source": [
    "info('tyrion', 'lannister', 1234567890)"
   ]
  },
  {
   "cell_type": "code",
   "execution_count": null,
   "metadata": {},
   "outputs": [],
   "source": [
    "# Positional argument\n",
    "info(1234567890, 'lannister', 'tyrion')"
   ]
  },
  {
   "cell_type": "code",
   "execution_count": null,
   "metadata": {},
   "outputs": [],
   "source": [
    "def info(firstname, lastname, phone):\n",
    "    print(\"First name: %s\" % firstname.title())\n",
    "    print(\"Last name: %s\" % lastname.title())\n",
    "    print(\"Age: %d\" % phone)\n"
   ]
  },
  {
   "cell_type": "code",
   "execution_count": null,
   "metadata": {},
   "outputs": [],
   "source": [
    "# Keyword argument\n",
    "info(phone=1234567890, lastname='lannister', firstname='tyrion')"
   ]
  },
  {
   "cell_type": "code",
   "execution_count": null,
   "metadata": {},
   "outputs": [],
   "source": [
    "# Mixing positional arguments with keyword arguments\n",
    "info('tyrion', phone=1234567890, lastname='lannister')"
   ]
  },
  {
   "cell_type": "code",
   "execution_count": null,
   "metadata": {},
   "outputs": [],
   "source": [
    "info('tyrion', 'lannister')"
   ]
  },
  {
   "cell_type": "code",
   "execution_count": null,
   "metadata": {},
   "outputs": [],
   "source": [
    "# Setting a default argument\n",
    "def info2(firstname, lastname, phone=1234567890):\n",
    "    # Note: a non-default argument cannot follow a defaulr argument\n",
    "    print(\"First name: %s\" % firstname.title())\n",
    "    print(\"Last name: %s\" % lastname.title())\n",
    "    print(\"Age: %d\" % phone)"
   ]
  },
  {
   "cell_type": "code",
   "execution_count": null,
   "metadata": {},
   "outputs": [],
   "source": [
    "info2('tyrion', 'lannister')"
   ]
  },
  {
   "cell_type": "markdown",
   "metadata": {},
   "source": [
    "### Classes"
   ]
  },
  {
   "cell_type": "code",
   "execution_count": null,
   "metadata": {},
   "outputs": [],
   "source": [
    "import numpy as np"
   ]
  },
  {
   "cell_type": "code",
   "execution_count": null,
   "metadata": {},
   "outputs": [],
   "source": [
    "class Robot:\n",
    "    def __init__(self):\n",
    "        self.x = 0\n",
    "        self.y = 0\n",
    "        \n",
    "    def move_up(self, increase):\n",
    "        self.y = self.y + increase\n",
    "        \n",
    "    def move_down(self, decrease):\n",
    "        self.y = self.y - decrease\n",
    "    \n",
    "    def move_right(self, increase):\n",
    "        self.x = self.x + increase\n",
    "        \n",
    "    def move_left(self, decrease):\n",
    "        self.x = self.x - decrease\n",
    "        \n",
    "    def calc_distance(self):\n",
    "        # From Pythagora's Theorem\n",
    "        distance = ( np.abs(self.x)**2 + np.abs(self.y)**2 )**0.5\n",
    "        return distance\n",
    "    "
   ]
  },
  {
   "cell_type": "code",
   "execution_count": null,
   "metadata": {},
   "outputs": [],
   "source": [
    "myRobot = Robot()"
   ]
  },
  {
   "cell_type": "code",
   "execution_count": null,
   "metadata": {},
   "outputs": [],
   "source": [
    "myRobot"
   ]
  },
  {
   "cell_type": "code",
   "execution_count": null,
   "metadata": {},
   "outputs": [],
   "source": [
    "myRobot.move_up(2)\n",
    "myRobot.move_right(3)\n",
    "myRobot.move_left(2)\n",
    "myRobot.move_down(6)\n",
    "myRobot.calc_distance()"
   ]
  },
  {
   "cell_type": "code",
   "execution_count": null,
   "metadata": {},
   "outputs": [],
   "source": [
    "myRobots = []\n",
    "\n",
    "for i in range(0,4):\n",
    "    myrobot = Robot()\n",
    "    myRobots.append(myRobot)"
   ]
  },
  {
   "cell_type": "code",
   "execution_count": null,
   "metadata": {},
   "outputs": [],
   "source": [
    "myRobots"
   ]
  },
  {
   "cell_type": "code",
   "execution_count": null,
   "metadata": {},
   "outputs": [],
   "source": [
    "import datetime\n",
    "import pandas as pd"
   ]
  },
  {
   "cell_type": "code",
   "execution_count": null,
   "metadata": {},
   "outputs": [],
   "source": [
    "class BeautyInsider: \n",
    "    def __init__(self, name, points, birthday,\n",
    "                 purchasetoday=0, redeemedpoints=0, rinvitation='No', rmonthlygift='No',\n",
    "                 rbirthdaygift='No'):\n",
    "        self.name = name\n",
    "        self.points = points\n",
    "        self.birthday = birthday\n",
    "        self.purchasetoday = purchasetoday\n",
    "        self.redeemedpoints = redeemedpoints\n",
    "        self.rinvitattion = rinvitation\n",
    "        self.rmonthlygift = rmonthlygift\n",
    "        self.rbirthdaygift = rbirthdaygift\n",
    "    \n",
    "    def add_points(self):\n",
    "        self.points = self.points + self.purchasetoday - self.redeemedpoints\n",
    "        return self.points\n",
    "        \n",
    "    def get_birthday(self):\n",
    "        if self.birthday == datetime.datetime.now().month\\\n",
    "        and self.rbirthdaygift == 'No':\n",
    "            self.rbirthdaygift = 'Yes'\n",
    "            return \"Say 'Happy Birthday, {}' and give birthday gift\".format(self.name)\n",
    "        else:\n",
    "            return 'Do not send birthday gift to {}'.format(self.name)\n",
    "    \n",
    "    def monthly_gift(self):\n",
    "        if self.points >= 350 and self.rmonthlygift == 'No':\n",
    "            self.rmonthlygift = 'Yes'\n",
    "            return 'Send monthly gift'\n",
    "        else:\n",
    "            return \"Do not send monthly gift\"\n",
    "    \n",
    "    def invitation(self):\n",
    "        if self.points >= 1000 and self.rinvitattion == 'No':\n",
    "            self.rbirthdaygift = 'Yes'\n",
    "            return 'Send invitation'\n",
    "        else:\n",
    "            return 'Do not send invitation'\n",
    "        \n",
    "        \n",
    "    def print_summary(self):\n",
    "        summary = pd.DataFrame({'Benefits':['Total points', 'Birthday gift',\n",
    "                                            'Monthly gift', 'Invitation'],\n",
    "                                'Instructions': [self.add_points(), self.get_birthday(),\n",
    "                                                 self.monthly_gift(), self.invitation()]})\n",
    "        return summary\n",
    "        \n",
    "        "
   ]
  },
  {
   "cell_type": "code",
   "execution_count": null,
   "metadata": {},
   "outputs": [],
   "source": [
    "myBI = BeautyInsider('Dami', 500, 5, 200)\n"
   ]
  },
  {
   "cell_type": "code",
   "execution_count": null,
   "metadata": {},
   "outputs": [],
   "source": [
    "myBI.print_summary()"
   ]
  },
  {
   "cell_type": "code",
   "execution_count": null,
   "metadata": {},
   "outputs": [],
   "source": [
    "df = pd.read_csv('sephora_shoppers.csv')"
   ]
  },
  {
   "cell_type": "code",
   "execution_count": null,
   "metadata": {},
   "outputs": [],
   "source": [
    "df"
   ]
  },
  {
   "cell_type": "code",
   "execution_count": null,
   "metadata": {},
   "outputs": [],
   "source": [
    "InsiderStatus = []\n",
    "\n",
    "for i in range(len(pd.DataFrame(df))):\n",
    "    myBI = BeautyInsider(df.iloc[i][1], df.iloc[i][2], df.iloc[i][0], \n",
    "                         df.iloc[i][7], df.iloc[i][6], df.iloc[i][4], \n",
    "                         df.iloc[i][5], df.iloc[i][3])\n",
    "    InsiderStatus.append(myBI.print_summary())"
   ]
  },
  {
   "cell_type": "code",
   "execution_count": null,
   "metadata": {},
   "outputs": [],
   "source": [
    "InsiderStatus"
   ]
  },
  {
   "cell_type": "code",
   "execution_count": null,
   "metadata": {},
   "outputs": [],
   "source": [
    "class Customer:\n",
    "    \"\"\"A customer of ABC Bank with a checking account. Customers have the\n",
    "    following properties:\n",
    "\n",
    "    Attributes:\n",
    "        name: A string representing the customer's name.\n",
    "        balance: A float tracking the current balance of the customer's account.\n",
    "    \"\"\"\n",
    "\n",
    "    def __init__(self, name, balance=0.0):\n",
    "        \"\"\"Return a Customer object whose name is *name* and starting\n",
    "        balance is *balance*.\"\"\"\n",
    "        self.name = name\n",
    "        self.balance = balance\n",
    "\n",
    "    def withdraw(self, amount):\n",
    "        \"\"\"Return the balance remaining after withdrawing *amount*\n",
    "        dollars.\"\"\"\n",
    "        if amount > self.balance:\n",
    "            raise RuntimeError('Amount greater than available balance.')\n",
    "        self.balance -= amount\n",
    "        return self.balance\n",
    "\n",
    "    def deposit(self, amount):\n",
    "        \"\"\"Return the balance remaining after depositing *amount*\n",
    "        dollars.\"\"\"\n",
    "        self.balance += amount\n",
    "        return self.balance\n",
    "    \n",
    "    \n",
    "    def print_balance(self):\n",
    "        print ('Welcome {}, you balance is {}'.format(self.name, self.balance))"
   ]
  }
 ],
 "metadata": {
  "kernelspec": {
   "display_name": "Python 3",
   "language": "python",
   "name": "python3"
  },
  "language_info": {
   "codemirror_mode": {
    "name": "ipython",
    "version": 3
   },
   "file_extension": ".py",
   "mimetype": "text/x-python",
   "name": "python",
   "nbconvert_exporter": "python",
   "pygments_lexer": "ipython3",
   "version": "3.6.4"
  }
 },
 "nbformat": 4,
 "nbformat_minor": 2
}
