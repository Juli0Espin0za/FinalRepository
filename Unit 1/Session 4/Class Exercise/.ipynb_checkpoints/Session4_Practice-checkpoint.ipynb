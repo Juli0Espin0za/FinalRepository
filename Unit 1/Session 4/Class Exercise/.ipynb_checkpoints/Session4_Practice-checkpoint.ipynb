{
 "cells": [
  {
   "cell_type": "markdown",
   "metadata": {},
   "source": [
    "## Let's create a class for a bank's customers.\n",
    "\n",
    "- The purpose of the class is to keep track of bank customers' accountbalance\n",
    "- For this exercise we will only be working with one customer\n",
    "- Use the template below to create a class  that can keep track of a customer's account balance after make deposits and withdrawals \n",
    "- You need two instance variables/attributes (name, balance) for this class\n",
    "- If there is a deposit, the 'deposit' method will add the specific deposit to the balance\n",
    "- If there is a withdrawal, the 'withdrawal' method will substract the withdrawal from the balance. **Remember to print a message if the amount for withdrawal is more than the balance.**\n",
    "- The 'balance' method should print a message stating the customer's balance. Try to be more personal by including the customer's name in the message."
   ]
  },
  {
   "cell_type": "code",
   "execution_count": null,
   "metadata": {},
   "outputs": [],
   "source": [
    "class Customer:\n",
    "    \"\"\"\n",
    "    Attributes:\n",
    "        name: A string representing the customer's name.\n",
    "        balance: A float tracking the current balance of the customer's account.\n",
    "    \"\"\"\n",
    "\n",
    "    def __init__(self, name, balance=0.0):\n",
    "        self.name = \n",
    "        self.balance = \n",
    "\n",
    "    def withdraw():\n",
    "        \n",
    "\n",
    "    def deposit():\n",
    "        \n",
    "    \n",
    "    \n",
    "    def print_balance(self):\n",
    "        "
   ]
  },
  {
   "cell_type": "markdown",
   "metadata": {},
   "source": [
    "### Create a object with the class\n",
    "- create an object for one customer\n",
    "- test out your attributes with random deposits and withdrawal for the customer (in an y order you like)\n",
    "- print out the cutoomer's account balance\n"
   ]
  },
  {
   "cell_type": "code",
   "execution_count": null,
   "metadata": {},
   "outputs": [],
   "source": [
    "customer1 = "
   ]
  }
 ],
 "metadata": {
  "kernelspec": {
   "display_name": "Python 3",
   "language": "python",
   "name": "python3"
  },
  "language_info": {
   "codemirror_mode": {
    "name": "ipython",
    "version": 3
   },
   "file_extension": ".py",
   "mimetype": "text/x-python",
   "name": "python",
   "nbconvert_exporter": "python",
   "pygments_lexer": "ipython3",
   "version": "3.6.4"
  }
 },
 "nbformat": 4,
 "nbformat_minor": 2
}
